{
  "nbformat": 4,
  "nbformat_minor": 0,
  "metadata": {
    "colab": {
      "provenance": [],
      "gpuType": "T4",
      "authorship_tag": "ABX9TyMUP0ENu713UZgs35LDeTho",
      "include_colab_link": true
    },
    "kernelspec": {
      "name": "python3",
      "display_name": "Python 3"
    },
    "language_info": {
      "name": "python"
    },
    "accelerator": "GPU",
    "gpuClass": "standard"
  },
  "cells": [
    {
      "cell_type": "markdown",
      "metadata": {
        "id": "view-in-github",
        "colab_type": "text"
      },
      "source": [
        "<a href=\"https://colab.research.google.com/github/dickleung0301/Mnist_digit_recognizer/blob/main/digit_recognizer.ipynb\" target=\"_parent\"><img src=\"https://colab.research.google.com/assets/colab-badge.svg\" alt=\"Open In Colab\"/></a>"
      ]
    },
    {
      "cell_type": "code",
      "execution_count": 1,
      "metadata": {
        "id": "JhAMpOlLLF6z"
      },
      "outputs": [],
      "source": [
        "import tensorflow as tf\n",
        "import numpy as np\n",
        "import matplotlib.pyplot as plt\n",
        "import seaborn as sns"
      ]
    },
    {
      "cell_type": "code",
      "source": [
        "(x_train, y_train), (x_val, y_val) = tf.keras.datasets.mnist.load_data()"
      ],
      "metadata": {
        "colab": {
          "base_uri": "https://localhost:8080/"
        },
        "id": "-Ov6IIKWLY1b",
        "outputId": "e52b0743-2463-43be-8a4a-0563aa19792f"
      },
      "execution_count": 2,
      "outputs": [
        {
          "output_type": "stream",
          "name": "stdout",
          "text": [
            "Downloading data from https://storage.googleapis.com/tensorflow/tf-keras-datasets/mnist.npz\n",
            "11490434/11490434 [==============================] - 1s 0us/step\n"
          ]
        }
      ]
    },
    {
      "cell_type": "code",
      "source": [
        "print(x_train.shape)\n",
        "print(y_train.shape)\n",
        "print(x_val.shape)\n",
        "print(y_val.shape)"
      ],
      "metadata": {
        "colab": {
          "base_uri": "https://localhost:8080/"
        },
        "id": "oUaY3xpe_BkA",
        "outputId": "38edfde2-07ee-4b82-cbca-70da64e32f80"
      },
      "execution_count": 3,
      "outputs": [
        {
          "output_type": "stream",
          "name": "stdout",
          "text": [
            "(60000, 28, 28)\n",
            "(60000,)\n",
            "(10000, 28, 28)\n",
            "(10000,)\n"
          ]
        }
      ]
    },
    {
      "cell_type": "code",
      "source": [
        "plt.matshow(x_train[0],cmap='gray') # to display a matrix(heat map)\n",
        "plt.colorbar()\n",
        "plt.show()"
      ],
      "metadata": {
        "colab": {
          "base_uri": "https://localhost:8080/",
          "height": 417
        },
        "id": "nFZUU2MN_uN3",
        "outputId": "0e942557-f26f-48f5-e6ed-f501a6cb2ac3"
      },
      "execution_count": 4,
      "outputs": [
        {
          "output_type": "display_data",
          "data": {
            "text/plain": [
              "<Figure size 480x480 with 2 Axes>"
            ],
            "image/png": "[encoded data removed]"
          },
          "metadata": {}
        }
      ]
    },
    {
      "cell_type": "code",
      "source": [
        "print(y_train[0])"
      ],
      "metadata": {
        "colab": {
          "base_uri": "https://localhost:8080/"
        },
        "id": "EakXJqZ2BPRr",
        "outputId": "931b5f50-d6a8-4cc8-d735-c5a6205e1715"
      },
      "execution_count": 5,
      "outputs": [
        {
          "output_type": "stream",
          "name": "stdout",
          "text": [
            "5\n"
          ]
        }
      ]
    },
    {
      "cell_type": "markdown",
      "source": [
        "###Data processing and normalisation###\n",
        "* A 2D CNN will receive 4D inputs (#data, height, width, color channels)  4+D tensor with shape: batch_shape + (channels, rows, cols) if\n",
        "    data_format='channels_first'\n",
        "* And also normalise it from [0,255] to [0,1]"
      ],
      "metadata": {
        "id": "9KyAHddGByQl"
      }
    },
    {
      "cell_type": "code",
      "source": [
        "# adding color channel\n",
        "x_train = x_train.reshape((60000,28,28,1))\n",
        "x_val = x_val.reshape((10000,28,28,1))\n",
        "# normalisation\n",
        "x_train = x_train / 255\n",
        "x_val = x_val / 255"
      ],
      "metadata": {
        "id": "3JYcjJnXCbtt"
      },
      "execution_count": 6,
      "outputs": []
    },
    {
      "cell_type": "code",
      "source": [
        "plt.matshow(x_train[0,:,:,0],cmap=\"gray\")\n",
        "plt.colorbar()\n",
        "plt.show()"
      ],
      "metadata": {
        "colab": {
          "base_uri": "https://localhost:8080/",
          "height": 422
        },
        "id": "p2rx7DpwDKcv",
        "outputId": "c8dd67b8-ecd5-497f-c71f-e79889a8770b"
      },
      "execution_count": 7,
      "outputs": [
        {
          "output_type": "display_data",
          "data": {
            "text/plain": [
              "<Figure size 480x480 with 2 Axes>"
            ],
            "image/png": "[encoded data removed]"
          },
          "metadata": {}
        }
      ]
    },
    {
      "cell_type": "markdown",
      "source": [
        "###Reformat the label to categories type output (softmax probability) (as the output of nueral network will be a continuous number, is not possible to make the output directly same as the category)###"
      ],
      "metadata": {
        "id": "Cz9KoOIBD-V4"
      }
    },
    {
      "cell_type": "code",
      "source": [
        "y_train = tf.keras.utils.to_categorical(y_train)\n",
        "y_val = tf.keras.utils.to_categorical(y_val)"
      ],
      "metadata": {
        "id": "M4HKTNHLEIE3"
      },
      "execution_count": 8,
      "outputs": []
    },
    {
      "cell_type": "code",
      "source": [
        "print(y_train.shape)\n",
        "print(y_train[0])"
      ],
      "metadata": {
        "colab": {
          "base_uri": "https://localhost:8080/"
        },
        "id": "2kbNHNsZIk-k",
        "outputId": "6b893e59-29e5-4c0b-acd3-23eab717b71b"
      },
      "execution_count": 9,
      "outputs": [
        {
          "output_type": "stream",
          "name": "stdout",
          "text": [
            "(60000, 10)\n",
            "[0. 0. 0. 0. 0. 1. 0. 0. 0. 0.]\n"
          ]
        }
      ]
    },
    {
      "cell_type": "markdown",
      "source": [
        "###Build a LeNet###\n",
        "* with 16 feature detectors in first layer with 3 x 3 kernel size\n",
        "* with 4 feature detectors in second layer with 3 x 3 kernel size\n",
        "* last layer with 10 softmax neurons"
      ],
      "metadata": {
        "id": "sPNe4CkhKQNk"
      }
    },
    {
      "cell_type": "code",
      "source": [
        "from tensorflow.keras.models import Sequential\n",
        "from tensorflow.keras.layers import Dense, Conv2D, Flatten"
      ],
      "metadata": {
        "id": "CCY3x5SBKujC"
      },
      "execution_count": 10,
      "outputs": []
    },
    {
      "cell_type": "code",
      "source": [
        "model = Sequential() #group all the stack of layers into a model class\n",
        "model.add(Conv2D(16, (3,3), activation = \"relu\", input_shape = x_train[0,:,:,:].shape)) # first conv layer and input layer\n",
        "model.add(Conv2D(4, (3,3), activation = \"relu\")) # second conv layer\n",
        "model.add(Flatten()) # flatten the tensor \n",
        "model.add(Dense(10, activation = \"relu\")) # first dense layer\n",
        "model.add(Dense(10, activation = \"softmax\")) # output layer\n",
        "model.summary()"
      ],
      "metadata": {
        "colab": {
          "base_uri": "https://localhost:8080/"
        },
        "id": "Hc5GbT7PLWA4",
        "outputId": "f2af690f-57e8-45a0-ff64-2a4fec8d3e44"
      },
      "execution_count": 11,
      "outputs": [
        {
          "output_type": "stream",
          "name": "stdout",
          "text": [
            "Model: \"sequential\"\n",
            "_________________________________________________________________\n",
            " Layer (type)                Output Shape              Param #   \n",
            "=================================================================\n",
            " conv2d (Conv2D)             (None, 26, 26, 16)        160       \n",
            "                                                                 \n",
            " conv2d_1 (Conv2D)           (None, 24, 24, 4)         580       \n",
            "                                                                 \n",
            " flatten (Flatten)           (None, 2304)              0         \n",
            "                                                                 \n",
            " dense (Dense)               (None, 10)                23050     \n",
            "                                                                 \n",
            " dense_1 (Dense)             (None, 10)                110       \n",
            "                                                                 \n",
            "=================================================================\n",
            "Total params: 23,900\n",
            "Trainable params: 23,900\n",
            "Non-trainable params: 0\n",
            "_________________________________________________________________\n"
          ]
        }
      ]
    },
    {
      "cell_type": "code",
      "source": [
        "model.compile(optimizer=\"adam\",loss=\"categorical_crossentropy\",metrics=[\"accuracy\"]) # momentum learning -> to prevent plateau\n",
        "histroy = model.fit(x_train, y_train, validation_data = (x_val, y_val), epochs=5, batch_size=64)"
      ],
      "metadata": {
        "colab": {
          "base_uri": "https://localhost:8080/"
        },
        "id": "h7aLnisFhImX",
        "outputId": "d947021b-7413-4b6f-8338-e920bb436dfc"
      },
      "execution_count": 15,
      "outputs": [
        {
          "output_type": "stream",
          "name": "stdout",
          "text": [
            "Epoch 1/5\n",
            "938/938 [==============================] - 7s 5ms/step - loss: 0.0590 - accuracy: 0.9815 - val_loss: 0.0814 - val_accuracy: 0.9743\n",
            "Epoch 2/5\n",
            "938/938 [==============================] - 4s 5ms/step - loss: 0.0531 - accuracy: 0.9837 - val_loss: 0.0702 - val_accuracy: 0.9784\n",
            "Epoch 3/5\n",
            "938/938 [==============================] - 5s 5ms/step - loss: 0.0471 - accuracy: 0.9855 - val_loss: 0.0663 - val_accuracy: 0.9797\n",
            "Epoch 4/5\n",
            "938/938 [==============================] - 4s 4ms/step - loss: 0.0421 - accuracy: 0.9866 - val_loss: 0.0648 - val_accuracy: 0.9799\n",
            "Epoch 5/5\n",
            "938/938 [==============================] - 5s 5ms/step - loss: 0.0380 - accuracy: 0.9884 - val_loss: 0.0634 - val_accuracy: 0.9813\n"
          ]
        }
      ]
    },
    {
      "cell_type": "code",
      "source": [
        "print(histroy.params)"
      ],
      "metadata": {
        "colab": {
          "base_uri": "https://localhost:8080/"
        },
        "id": "Xa5wRgCXkx4M",
        "outputId": "f7a9f01e-16ea-4e91-c432-ec1943b01622"
      },
      "execution_count": 16,
      "outputs": [
        {
          "output_type": "stream",
          "name": "stdout",
          "text": [
            "{'verbose': 1, 'epochs': 5, 'steps': 938}\n"
          ]
        }
      ]
    },
    {
      "cell_type": "code",
      "source": [
        "plt.plot(histroy.history[\"accuracy\"])\n",
        "plt.plot(histroy.history[\"val_accuracy\"])\n",
        "plt.ylabel(\"Accuracy\")\n",
        "plt.xlabel(\"Epoch\")\n",
        "plt.legend([\"training data\", \"validation data\"], loc='lower right')\n",
        "plt.show()"
      ],
      "metadata": {
        "colab": {
          "base_uri": "https://localhost:8080/",
          "height": 449
        },
        "id": "LS6kOVsmlJ0A",
        "outputId": "4fedffbc-164b-4dea-c096-23a2ae86de86"
      },
      "execution_count": 17,
      "outputs": [
        {
          "output_type": "display_data",
          "data": {
            "text/plain": [
              "<Figure size 640x480 with 1 Axes>"
            ],
            "image/png": "[encoded data removed]"
          },
          "metadata": {}
        }
      ]
    },
    {
      "cell_type": "code",
      "source": [
        "val_loss, val_acc = model.evaluate(x_val,y_val)\n",
        "print(\"validation set accuracy: \", val_acc)"
      ],
      "metadata": {
        "colab": {
          "base_uri": "https://localhost:8080/"
        },
        "id": "UOeTHIn6m77l",
        "outputId": "07797394-e257-4c4d-e8fc-8a607f6d549e"
      },
      "execution_count": 18,
      "outputs": [
        {
          "output_type": "stream",
          "name": "stdout",
          "text": [
            "313/313 [==============================] - 1s 3ms/step - loss: 0.0634 - accuracy: 0.9813\n",
            "validation set accuracy:  0.9812999963760376\n"
          ]
        }
      ]
    },
    {
      "cell_type": "markdown",
      "source": [
        "###Prediction###"
      ],
      "metadata": {
        "id": "nkupY-r-nrJQ"
      }
    },
    {
      "cell_type": "code",
      "source": [
        "print(y_val[0])\n",
        "plt.matshow(x_val[0,:,:,0])\n",
        "plt.show()"
      ],
      "metadata": {
        "colab": {
          "base_uri": "https://localhost:8080/",
          "height": 455
        },
        "id": "7FFzVLIIntp8",
        "outputId": "f2bd1017-5e5a-4aab-84e9-0b2e480e78e5"
      },
      "execution_count": 19,
      "outputs": [
        {
          "output_type": "stream",
          "name": "stdout",
          "text": [
            "[0. 0. 0. 0. 0. 0. 0. 1. 0. 0.]\n"
          ]
        },
        {
          "output_type": "display_data",
          "data": {
            "text/plain": [
              "<Figure size 480x480 with 1 Axes>"
            ],
            "image/png": "[encoded data removed]"
          },
          "metadata": {}
        }
      ]
    },
    {
      "cell_type": "code",
      "source": [
        "prediction = model.predict(x_val)\n",
        "print(prediction[0]) # to print the probability of the categories"
      ],
      "metadata": {
        "colab": {
          "base_uri": "https://localhost:8080/"
        },
        "id": "GEDjNrVxoKzF",
        "outputId": "18ab6b88-1780-4415-83a4-4976253e1ff8"
      },
      "execution_count": 20,
      "outputs": [
        {
          "output_type": "stream",
          "name": "stdout",
          "text": [
            "313/313 [==============================] - 1s 2ms/step\n",
            "[6.6134350e-15 3.2830794e-08 9.2688274e-10 3.6529596e-05 8.7654592e-11\n",
            " 4.9559312e-10 6.4244617e-20 9.9992406e-01 4.0072261e-09 3.9310093e-05]\n"
          ]
        }
      ]
    },
    {
      "cell_type": "code",
      "source": [
        "print(prediction[0].round())"
      ],
      "metadata": {
        "colab": {
          "base_uri": "https://localhost:8080/"
        },
        "id": "BUbhZZTmomGR",
        "outputId": "1fa27a66-5b67-4485-e775-22988748368f"
      },
      "execution_count": 21,
      "outputs": [
        {
          "output_type": "stream",
          "name": "stdout",
          "text": [
            "[0. 0. 0. 0. 0. 0. 0. 1. 0. 0.]\n"
          ]
        }
      ]
    },
    {
      "cell_type": "markdown",
      "source": [
        "###Things can be done for enhancing performance###\n",
        "* Use GPU\n",
        "* increase epochs (be care of overfitting -> early stopping)\n",
        "* Add more features detectors (more params need to be trained)\n",
        "* Add more layers (mind the exploding and vanishing for the sensitivity function of BP -> ResNet maybe a better choice)\n",
        "* Add more Cov Layer (may also include pooling layer to increase the computing)\n",
        "* The model already > baseline acc (1/10)"
      ],
      "metadata": {
        "id": "pNiJcUxqpBuz"
      }
    }
  ]
}